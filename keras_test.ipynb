{
 "cells": [
  {
   "cell_type": "markdown",
   "metadata": {},
   "source": [
    "### tf > keras 실험 코드"
   ]
  },
  {
   "cell_type": "code",
   "execution_count": 2,
   "metadata": {},
   "outputs": [
    {
     "data": {
      "text/plain": [
       "'2.1.0'"
      ]
     },
     "execution_count": 2,
     "metadata": {},
     "output_type": "execute_result"
    }
   ],
   "source": [
    "import tensorflow as tf\n",
    "import numpy as np\n",
    "tf.__version__"
   ]
  },
  {
   "cell_type": "code",
   "execution_count": 3,
   "metadata": {},
   "outputs": [],
   "source": [
    "img_shapes = [256,256,3]"
   ]
  },
  {
   "cell_type": "code",
   "execution_count": 3,
   "metadata": {},
   "outputs": [
    {
     "name": "stdout",
     "output_type": "stream",
     "text": [
      "/Users/singwanghyeon/PycharmProjects/tfcoreml/generative_inpainting-master/examples/makepb/training/training/k.png\n"
     ]
    }
   ],
   "source": [
    "with open('data/places2/train_shuffled.flist') as f:\n",
    "    fnames = f.read().splitlines()\n",
    "print(fnames[0])"
   ]
  },
  {
   "cell_type": "code",
   "execution_count": null,
   "metadata": {},
   "outputs": [],
   "source": [
    "data = ng.data.DataFromFNames(\n",
    "        fnames, img_shapes, random_crop=FLAGS.random_crop,\n",
    "        nthreads=FLAGS.num_cpus_per_job)\n",
    "images = data.data_pipeline(FLAGS.batch_size)"
   ]
  },
  {
   "cell_type": "code",
   "execution_count": null,
   "metadata": {},
   "outputs": [],
   "source": [
    "# Queue 설명\n",
    "# https://bcho.tistory.com/1163\n",
    "# 2.0에서는 tf.data를위해 Queue Runner 제거됨"
   ]
  },
  {
   "cell_type": "code",
   "execution_count": null,
   "metadata": {},
   "outputs": [],
   "source": [
    "# 큐 사이즈 256\n",
    "from tensorflow.python.ops import data_flow_ops\n",
    "queue = data_flow_ops.FIFOQueue(\n",
    "    capacity=256,\n",
    "    dtypes=tf.float32,\n",
    "    shapes=img_shapes,\n",
    "    shared_name=None,\n",
    "    name=None)\n",
    "batch_size=16\n",
    "data = queue.dequeue_many(batch_size)"
   ]
  },
  {
   "cell_type": "code",
   "execution_count": 4,
   "metadata": {},
   "outputs": [],
   "source": [
    "data = np.random.random((1000, 32))\n",
    "labels = np.random.random((1000, 10))\n",
    "dataset = tf.data.Dataset.from_tensor_slices((data, labels))\n",
    "dataset = dataset.batch(32)"
   ]
  },
  {
   "cell_type": "code",
   "execution_count": null,
   "metadata": {},
   "outputs": [],
   "source": []
  }
 ],
 "metadata": {
  "kernelspec": {
   "display_name": "Python 3",
   "language": "python",
   "name": "python3"
  },
  "language_info": {
   "codemirror_mode": {
    "name": "ipython",
    "version": 3
   },
   "file_extension": ".py",
   "mimetype": "text/x-python",
   "name": "python",
   "nbconvert_exporter": "python",
   "pygments_lexer": "ipython3",
   "version": "3.6.8rc1"
  }
 },
 "nbformat": 4,
 "nbformat_minor": 2
}
