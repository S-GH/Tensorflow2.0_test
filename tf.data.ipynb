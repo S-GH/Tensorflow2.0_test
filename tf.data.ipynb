{
 "cells": [
  {
   "cell_type": "code",
   "execution_count": 1,
   "metadata": {},
   "outputs": [],
   "source": [
    "import tensorflow as tf\n",
    "import os\n",
    "from PIL import Image\n",
    "import matplotlib.pyplot as plt\n",
    "TRAIN_PATH = 'data/'\n",
    "train_ids = next(os.walk(TRAIN_PATH))[2]"
   ]
  },
  {
   "cell_type": "code",
   "execution_count": 2,
   "metadata": {},
   "outputs": [
    {
     "name": "stdout",
     "output_type": "stream",
     "text": [
      "['k.png', 'j.png', 'h.png', 'i 복사본.png', 'i.png']\n"
     ]
    }
   ],
   "source": [
    "print(train_ids[:5])"
   ]
  },
  {
   "cell_type": "code",
   "execution_count": 3,
   "metadata": {},
   "outputs": [],
   "source": [
    "train_imgs = []\n",
    "for id_ in train_ids:\n",
    "    img_str = open(TRAIN_PATH+id_,'rb').read()\n",
    "    train_imgs.append(img_str)"
   ]
  },
  {
   "cell_type": "code",
   "execution_count": 4,
   "metadata": {
    "scrolled": true
   },
   "outputs": [],
   "source": [
    "# 이미지의 라벨을 설정 여기선, 모두 1로 설정\n",
    "# tf.session(안씀) > tf.function\n",
    "# train.Feature의 int/float/bytes 형식을 \n",
    "# tf.train.example이 받아서 TFRecord를 생성해준다.\n",
    "\n",
    "def _bytes_feature(value):\n",
    "  \"\"\"string / byte 타입을 받아서 byte list를 리턴합니다.\"\"\"\n",
    "  return tf.train.Feature(bytes_list=tf.train.BytesList(value=[value]))\n",
    "\n",
    "def _float_feature(value):\n",
    "  \"\"\"float / double 타입을 받아서 float list를 리턴합니다.\"\"\"\n",
    "  return tf.train.Feature(float_list=tf.train.FloatList(value=[value]))\n",
    "\n",
    "def _int64_feature(value):\n",
    "  \"\"\"bool / enum / int / uint 타입을 받아서 int64 list를 리턴합니다.\"\"\"\n",
    "  return tf.train.Feature(int64_list=tf.train.Int64List(value=[value]))\n",
    "\n",
    "def image_example(img_str, label=1):\n",
    "    img_shape = tf.io.decode_png(img_str).shape\n",
    "#     print(img_shape)\n",
    "    feature = {\n",
    "      'height': _int64_feature(img_shape[0]),\n",
    "      'width': _int64_feature(img_shape[1]),\n",
    "      'depth': _int64_feature(img_shape[2]),\n",
    "      'label': _int64_feature(label),\n",
    "      'image_raw': _bytes_feature(img_str),\n",
    "    }\n",
    "    return tf.train.Example(features=tf.train.Features(feature=feature))\n",
    "\n",
    "# 예제 이미지들을 images.tfrecords 파일에 저장합니다.\n",
    "with tf.io.TFRecordWriter('images.tfrecords') as writer:\n",
    "    for imgstr in train_imgs:\n",
    "        tf_example = image_example(imgstr)\n",
    "        writer.write(tf_example.SerializeToString())"
   ]
  },
  {
   "cell_type": "code",
   "execution_count": 11,
   "metadata": {},
   "outputs": [
    {
     "name": "stdout",
     "output_type": "stream",
     "text": [
      "<TFRecordDatasetV2 shapes: (), types: tf.string>\n",
      "Model: \"model_3\"\n",
      "_________________________________________________________________\n",
      "Layer (type)                 Output Shape              Param #   \n",
      "=================================================================\n",
      "input_4 (InputLayer)         [(None, 512, 680, 3)]     0         \n",
      "_________________________________________________________________\n",
      "conv2d_3 (Conv2D)            (None, 510, 678, 16)      448       \n",
      "_________________________________________________________________\n",
      "flatten_3 (Flatten)          (None, 5532480)           0         \n",
      "_________________________________________________________________\n",
      "dense_3 (Dense)              (None, 1)                 5532481   \n",
      "=================================================================\n",
      "Total params: 5,532,929\n",
      "Trainable params: 5,532,929\n",
      "Non-trainable params: 0\n",
      "_________________________________________________________________\n"
     ]
    }
   ],
   "source": [
    "dataset = tf.data.TFRecordDataset('images.tfrecords')\n",
    "print(dataset)\n",
    "\n",
    "def read_tfrecord(example):\n",
    "    features = {\n",
    "        'height': tf.io.FixedLenFeature([], tf.int64),\n",
    "        'width': tf.io.FixedLenFeature([], tf.int64),\n",
    "        'depth': tf.io.FixedLenFeature([], tf.int64),\n",
    "        'label': tf.io.FixedLenFeature([], tf.int64),\n",
    "        'image_raw': tf.io.FixedLenFeature([], tf.string),\n",
    "    }\n",
    "    example = tf.io.parse_single_example(example, features)\n",
    "    \n",
    "    image = tf.image.decode_png(example['image_raw'], channels=3)\n",
    "    image = tf.cast(image, tf.float32) / 255.0\n",
    "    label = example['label']\n",
    "    \n",
    "    return image, label\n",
    "\n",
    "def get_batched_dataset(filenames):\n",
    "    option_no_order = tf.data.Options()\n",
    "    option_no_order.experimental_deterministic = False\n",
    "\n",
    "    dataset = tf.data.Dataset.list_files(filenames)\n",
    "    dataset = dataset.with_options(option_no_order)\n",
    "    # https://www.tensorflow.org/guide/data_performance?hl=ko\n",
    "    dataset = dataset.interleave(tf.data.TFRecordDataset, cycle_length=16, num_parallel_calls=tf.data.experimental.AUTOTUNE)\n",
    "    dataset = dataset.map(read_tfrecord, num_parallel_calls=tf.data.experimental.AUTOTUNE)\n",
    "\n",
    "    dataset = dataset.cache() # This dataset fits in RAM\n",
    "    dataset = dataset.repeat()\n",
    "#     dataset = dataset.shuffle(2048)\n",
    "    BATCH_SIZE = 5\n",
    "    dataset = dataset.batch(BATCH_SIZE, drop_remainder=True) \n",
    "    # 데이터를 미리 가져온다..?\n",
    "    dataset = dataset.prefetch(tf.data.experimental.AUTOTUNE) \n",
    "\n",
    "    return dataset\n",
    "\n",
    "def get_training_dataset():\n",
    "    return get_batched_dataset('images.tfrecords')\n",
    "# parsed_image_dataset = dataset.map(_parse_image_function)\n",
    "# parsed_image_dataset = parsed_image_dataset.batch(2)\n",
    "\n",
    "\n",
    "from tensorflow.keras.models import Model\n",
    "from tensorflow.keras.layers import Input, Conv2D, Flatten, Dense\n",
    "\n",
    "inputs = Input((512, 680, 3))\n",
    "x = Conv2D(16,(3,3),activation='relu')(inputs)\n",
    "x = Flatten()(x)\n",
    "outputs = Dense(1)(x)\n",
    "\n",
    "model = Model(inputs,outputs)\n",
    "model.compile(optimizer='adam', loss='binary_crossentropy', metrics=['mse'])\n",
    "model.summary()"
   ]
  },
  {
   "cell_type": "code",
   "execution_count": 12,
   "metadata": {
    "scrolled": false
   },
   "outputs": [
    {
     "name": "stdout",
     "output_type": "stream",
     "text": [
      "Train for 30 steps\n",
      "Epoch 1/10\n",
      "30/30 [==============================] - 9s 304ms/step - loss: 15.4249 - mse: 2.9615\n",
      "Epoch 2/10\n",
      "30/30 [==============================] - 7s 249ms/step - loss: 15.4249 - mse: 2.9659\n",
      "Epoch 3/10\n",
      "30/30 [==============================] - 8s 252ms/step - loss: 15.4249 - mse: 2.9659\n",
      "Epoch 4/10\n",
      "30/30 [==============================] - 7s 247ms/step - loss: 15.4249 - mse: 2.9615\n",
      "Epoch 5/10\n",
      "30/30 [==============================] - 8s 264ms/step - loss: 15.4249 - mse: 2.9703\n",
      "Epoch 6/10\n",
      "30/30 [==============================] - 8s 264ms/step - loss: 15.4249 - mse: 2.9615\n",
      "Epoch 7/10\n",
      "30/30 [==============================] - 8s 257ms/step - loss: 15.4249 - mse: 2.9615\n",
      "Epoch 8/10\n",
      "30/30 [==============================] - 7s 244ms/step - loss: 15.4249 - mse: 2.9571\n",
      "Epoch 9/10\n",
      "30/30 [==============================] - 8s 259ms/step - loss: 15.4249 - mse: 2.9571\n",
      "Epoch 10/10\n",
      "30/30 [==============================] - 7s 241ms/step - loss: 15.4249 - mse: 2.9659\n"
     ]
    },
    {
     "data": {
      "text/plain": [
       "<tensorflow.python.keras.callbacks.History at 0x13d232780>"
      ]
     },
     "execution_count": 12,
     "metadata": {},
     "output_type": "execute_result"
    }
   ],
   "source": [
    "# Dataset에서 `fit` 메서드를 호출할 때 `steps_per_epoch` 설정을 잊지 마세요.\n",
    "# https://www.tensorflow.org/guide/keras/overview?hl=ko\n",
    "model.fit(get_training_dataset(), epochs=10, steps_per_epoch=30)"
   ]
  },
  {
   "cell_type": "code",
   "execution_count": 6,
   "metadata": {},
   "outputs": [
    {
     "name": "stdout",
     "output_type": "stream",
     "text": [
      "<TFRecordDatasetV2 shapes: (), types: tf.string>\n"
     ]
    }
   ],
   "source": [
    "raw_example = next(iter(dataset))\n",
    "parsed = tf.train.Example.FromString(raw_example.numpy())\n",
    "parsed.features.feature['image/text']"
   ]
  },
  {
   "cell_type": "code",
   "execution_count": null,
   "metadata": {},
   "outputs": [],
   "source": [
    "# https://hwiyong.tistory.com/280?category=840057\n",
    "# 공부 ㅎㅎ;"
   ]
  },
  {
   "cell_type": "code",
   "execution_count": null,
   "metadata": {},
   "outputs": [],
   "source": [
    "# 이미지 모델을 위한 파이프라인은 분산 파일 시스템에서 데이터를 통합\n",
    "# 이미지 파이프라인에서 요소는 이미지와 레이블을 나타내는 텐서의 요소 쌍인 \n",
    "# 단일 학습 예시를 나타낼 수 있습니다."
   ]
  },
  {
   "cell_type": "code",
   "execution_count": 30,
   "metadata": {},
   "outputs": [
    {
     "data": {
      "text/plain": [
       "<TensorSliceDataset shapes: (), types: tf.int32>"
      ]
     },
     "execution_count": 30,
     "metadata": {},
     "output_type": "execute_result"
    }
   ],
   "source": [
    "dataset = tf.data.Dataset.from_tensor_slices([8, 3, 0, 8, 2, 1])\n",
    "dataset"
   ]
  },
  {
   "cell_type": "code",
   "execution_count": 31,
   "metadata": {},
   "outputs": [
    {
     "name": "stdout",
     "output_type": "stream",
     "text": [
      "8\n",
      "3\n",
      "0\n",
      "8\n",
      "2\n",
      "1\n"
     ]
    }
   ],
   "source": [
    "for elem in dataset:\n",
    "  print(elem.numpy())"
   ]
  },
  {
   "cell_type": "code",
   "execution_count": 32,
   "metadata": {},
   "outputs": [
    {
     "name": "stdout",
     "output_type": "stream",
     "text": [
      "8\n",
      "3\n",
      "0\n"
     ]
    }
   ],
   "source": [
    "it = iter(dataset)\n",
    "print(next(it).numpy())\n",
    "print(next(it).numpy())\n",
    "print(next(it).numpy())"
   ]
  },
  {
   "cell_type": "code",
   "execution_count": 33,
   "metadata": {},
   "outputs": [
    {
     "name": "stdout",
     "output_type": "stream",
     "text": [
      "22\n"
     ]
    }
   ],
   "source": [
    "# 데이터의 모든합\n",
    "print(dataset.reduce(0, lambda state,value: state+value).numpy())"
   ]
  },
  {
   "cell_type": "code",
   "execution_count": null,
   "metadata": {},
   "outputs": [],
   "source": [
    "# Tensor, SparseTensor, RaggedTensor, TensorArray, Dataset"
   ]
  },
  {
   "cell_type": "code",
   "execution_count": null,
   "metadata": {},
   "outputs": [],
   "source": []
  }
 ],
 "metadata": {
  "kernelspec": {
   "display_name": "Python 3",
   "language": "python",
   "name": "python3"
  },
  "language_info": {
   "codemirror_mode": {
    "name": "ipython",
    "version": 3
   },
   "file_extension": ".py",
   "mimetype": "text/x-python",
   "name": "python",
   "nbconvert_exporter": "python",
   "pygments_lexer": "ipython3",
   "version": "3.6.8rc1"
  }
 },
 "nbformat": 4,
 "nbformat_minor": 2
}
