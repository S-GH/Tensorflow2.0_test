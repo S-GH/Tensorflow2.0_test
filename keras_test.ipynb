{
 "cells": [
  {
   "cell_type": "markdown",
   "metadata": {},
   "source": [
    "### tf 1.x  >>  tf 2.x + keras 실험 코드"
   ]
  },
  {
   "cell_type": "code",
   "execution_count": 1,
   "metadata": {},
   "outputs": [
    {
     "data": {
      "text/plain": [
       "'2.1.0'"
      ]
     },
     "execution_count": 1,
     "metadata": {},
     "output_type": "execute_result"
    }
   ],
   "source": [
    "import cv2\n",
    "import numpy as np\n",
    "import tensorflow as tf\n",
    "from tensorflow.keras.models import Model\n",
    "from tensorflow.keras.layers import Dense, Input, Conv2D\n",
    "tf.__version__"
   ]
  },
  {
   "cell_type": "code",
   "execution_count": 2,
   "metadata": {},
   "outputs": [],
   "source": [
    "# input image setting\n",
    "img_shape = [512, 680, 3]\n",
    "img_height = img_shape[0]\n",
    "img_width = img_shape[1]"
   ]
  },
  {
   "cell_type": "code",
   "execution_count": 3,
   "metadata": {},
   "outputs": [
    {
     "name": "stdout",
     "output_type": "stream",
     "text": [
      "[[[229]]\n",
      "\n",
      " [[228]]\n",
      "\n",
      " [[226]]]\n",
      "[[[0.79607843]]\n",
      "\n",
      " [[0.78823529]]\n",
      "\n",
      " [[0.77254902]]]\n"
     ]
    }
   ],
   "source": [
    "######### 예제 input img 생성 + 전처리 #########\n",
    "# size = 1 , 512, 680, 3 batch,height,width,channel\n",
    "ximg = cv2.imread('data/1/1/1_1_000.png')\n",
    "ximg = ximg.reshape(1,512,680,3)\n",
    "# 픽셀값 예시 print\n",
    "print(ximg[0][0:3,0:1,0:1])\n",
    "ximg = ximg / 127.5 - 1. # -1 ~ 1 의 scale로 변환\n",
    "print(ximg[0][0:3,0:1,0:1])"
   ]
  },
  {
   "cell_type": "code",
   "execution_count": 4,
   "metadata": {},
   "outputs": [
    {
     "name": "stdout",
     "output_type": "stream",
     "text": [
      "(<tf.Tensor: shape=(), dtype=int32, numpy=275>, <tf.Tensor: shape=(), dtype=int32, numpy=236>, <tf.Tensor: shape=(), dtype=int32, numpy=512>, <tf.Tensor: shape=(), dtype=int32, numpy=680>)\n"
     ]
    }
   ],
   "source": [
    "########### 마스크 생성 ############\n",
    "maxtop = img_height - 128\n",
    "maxleft = img_width - 128\n",
    "# maxtop = 0 ~ (512-128)까지의 랜덤 텐서값 하나 생성\n",
    "t = tf.keras.backend.random_uniform(\n",
    "    [], minval=0, maxval=maxtop, dtype=tf.int32)\n",
    "# maxleft = 0 ~ (680-128)까지의 랜덤 텐서값 하나 생성\n",
    "l = tf.keras.backend.random_uniform(\n",
    "    [], minval=0, maxval=maxleft, dtype=tf.int32)\n",
    "h = tf.constant(img_shape[0])\n",
    "w = tf.constant(img_shape[1])\n",
    "\n",
    "# bbox ex)329,212,512,512 / x=329, y=212 점의 512*512 사각형\n",
    "bbox = (t,l,h,w)\n",
    "print(bbox)"
   ]
  },
  {
   "cell_type": "code",
   "execution_count": 5,
   "metadata": {},
   "outputs": [
    {
     "name": "stdout",
     "output_type": "stream",
     "text": [
      "tf.Tensor(276, shape=(), dtype=int32) : tf.Tensor(786, shape=(), dtype=int32)\n",
      "tf.Tensor(237, shape=(), dtype=int32) : tf.Tensor(915, shape=(), dtype=int32)\n"
     ]
    }
   ],
   "source": [
    "def npmask(bbox, height, width, delta_h, delta_w):\n",
    "    mask = np.zeros((1, height, width, 1), np.float32)\n",
    "    h = np.random.randint(delta_h // 2 + 1)\n",
    "    w = np.random.randint(delta_w // 2 + 1)\n",
    "    mask[:, bbox[0] + h:bbox[0] + bbox[2] - h,\n",
    "    bbox[1] + w:bbox[1] + bbox[3] - w, :] = 1.\n",
    "    print(bbox[0] + h,':',bbox[0] + bbox[2] - h)\n",
    "    print(bbox[1] + w,':',bbox[1] + bbox[3] - w)\n",
    "    return mask\n",
    "# 32 = max_delta_height\n",
    "# npmask ex) [:, 339:831, 223:881, :] = 1. / 일정범위 1값으로 채우기\n",
    "mask = tf.py_function(npmask,[bbox,img_height,img_width,32,32],tf.float32)\n",
    "mask.set_shape([1] + [img_height, img_width] + [1])"
   ]
  },
  {
   "cell_type": "code",
   "execution_count": 6,
   "metadata": {},
   "outputs": [
    {
     "data": {
      "text/plain": [
       "<tf.Tensor: shape=(1, 512, 680, 5), dtype=float32, numpy=\n",
       "array([[[[ 0.79607844,  0.7490196 ,  0.69411767,  1.        ,\n",
       "           1.        ],\n",
       "         [ 0.7882353 ,  0.7411765 ,  0.6862745 ,  1.        ,\n",
       "           1.        ],\n",
       "         [ 0.78039217,  0.73333335,  0.6784314 ,  1.        ,\n",
       "           1.        ],\n",
       "         ...,\n",
       "         [ 0.8745098 ,  0.8745098 ,  0.8745098 ,  1.        ,\n",
       "           1.        ],\n",
       "         [ 0.8745098 ,  0.8745098 ,  0.8745098 ,  1.        ,\n",
       "           1.        ],\n",
       "         [ 0.8745098 ,  0.8745098 ,  0.8745098 ,  1.        ,\n",
       "           1.        ]],\n",
       "\n",
       "        [[ 0.7882353 ,  0.7411765 ,  0.6862745 ,  1.        ,\n",
       "           1.        ],\n",
       "         [ 0.78039217,  0.73333335,  0.6784314 ,  1.        ,\n",
       "           1.        ],\n",
       "         [ 0.77254903,  0.7254902 ,  0.67058825,  1.        ,\n",
       "           1.        ],\n",
       "         ...,\n",
       "         [ 0.8745098 ,  0.8745098 ,  0.8745098 ,  1.        ,\n",
       "           1.        ],\n",
       "         [ 0.8745098 ,  0.8745098 ,  0.8745098 ,  1.        ,\n",
       "           1.        ],\n",
       "         [ 0.8745098 ,  0.8745098 ,  0.8745098 ,  1.        ,\n",
       "           1.        ]],\n",
       "\n",
       "        [[ 0.77254903,  0.7254902 ,  0.67058825,  1.        ,\n",
       "           1.        ],\n",
       "         [ 0.77254903,  0.7254902 ,  0.67058825,  1.        ,\n",
       "           1.        ],\n",
       "         [ 0.77254903,  0.7254902 ,  0.67058825,  1.        ,\n",
       "           1.        ],\n",
       "         ...,\n",
       "         [ 0.8745098 ,  0.8745098 ,  0.8745098 ,  1.        ,\n",
       "           1.        ],\n",
       "         [ 0.8745098 ,  0.8745098 ,  0.8745098 ,  1.        ,\n",
       "           1.        ],\n",
       "         [ 0.8745098 ,  0.8745098 ,  0.8745098 ,  1.        ,\n",
       "           1.        ]],\n",
       "\n",
       "        ...,\n",
       "\n",
       "        [[-0.8666667 , -0.6784314 , -0.77254903,  1.        ,\n",
       "           1.        ],\n",
       "         [-0.8509804 , -0.6627451 , -0.75686276,  1.        ,\n",
       "           1.        ],\n",
       "         [-0.84313726, -0.654902  , -0.7490196 ,  1.        ,\n",
       "           1.        ],\n",
       "         ...,\n",
       "         [-0.        , -0.        , -0.        ,  1.        ,\n",
       "           0.        ],\n",
       "         [-0.        , -0.        , -0.        ,  1.        ,\n",
       "           0.        ],\n",
       "         [-0.        , -0.        , -0.        ,  1.        ,\n",
       "           0.        ]],\n",
       "\n",
       "        [[-0.9529412 , -0.7647059 , -0.85882354,  1.        ,\n",
       "           1.        ],\n",
       "         [-0.94509804, -0.75686276, -0.8509804 ,  1.        ,\n",
       "           1.        ],\n",
       "         [-0.92156863, -0.7490196 , -0.84313726,  1.        ,\n",
       "           1.        ],\n",
       "         ...,\n",
       "         [-0.        , -0.        , -0.        ,  1.        ,\n",
       "           0.        ],\n",
       "         [-0.        , -0.        , -0.        ,  1.        ,\n",
       "           0.        ],\n",
       "         [-0.        , -0.        ,  0.        ,  1.        ,\n",
       "           0.        ]],\n",
       "\n",
       "        [[-0.9529412 , -0.7647059 , -0.85882354,  1.        ,\n",
       "           1.        ],\n",
       "         [-0.9607843 , -0.77254903, -0.8666667 ,  1.        ,\n",
       "           1.        ],\n",
       "         [-0.9529412 , -0.78039217, -0.8745098 ,  1.        ,\n",
       "           1.        ],\n",
       "         ...,\n",
       "         [-0.        , -0.        , -0.        ,  1.        ,\n",
       "           0.        ],\n",
       "         [-0.        , -0.        ,  0.        ,  1.        ,\n",
       "           0.        ],\n",
       "         [-0.        , -0.        ,  0.        ,  1.        ,\n",
       "           0.        ]]]], dtype=float32)>"
      ]
     },
     "execution_count": 6,
     "metadata": {},
     "output_type": "execute_result"
    }
   ],
   "source": [
    "# 흰 부분이 1이니깐 검<->흰 변경\n",
    "# 흰픽셀이 마스킹될 부분이다.\n",
    "mask = (1. - mask) # 최종적으로 모델에 들어갈 마스크\n",
    "ximg = ximg * mask\n",
    "x_copy = ximg\n",
    "ones_x = tf.ones_like(ximg)[:, :, :, 0:1]\n",
    "x_input = tf.concat([ximg,ones_x,mask],axis=3)\n",
    "x_input"
   ]
  },
  {
   "cell_type": "markdown",
   "metadata": {},
   "source": [
    "## Model Start"
   ]
  },
  {
   "cell_type": "code",
   "execution_count": 7,
   "metadata": {},
   "outputs": [
    {
     "data": {
      "text/plain": [
       "'\\ntf.get_variable 대신에 tf.Variable을 사용하세요.\\n모든 variable_scope는 파이썬 객체로 바꿀 수 있습니다. 일반적으로 다음 중 하나가 될 것입니다:\\n-tf.keras.layers.Layer\\n-tf.keras.Model\\n-tf.Module\\n만약 (tf.Graph.get_collection(tf.GraphKeys.VARIABLES)처럼) \\n변수의 리스트가 필요하다면 Layer와 Model 객체의 .variables이나 .trainable_variables 속성을 사용하세요.\\n'"
      ]
     },
     "execution_count": 7,
     "metadata": {},
     "output_type": "execute_result"
    }
   ],
   "source": [
    "# variable_scope 안써도됩니다.\n",
    "# arg_scope 인자들을 일제히 설정해주는 코드. 무시 가능\n",
    "'''\n",
    "tf.get_variable 대신에 tf.Variable을 사용하세요.\n",
    "모든 variable_scope는 파이썬 객체로 바꿀 수 있습니다. 일반적으로 다음 중 하나가 될 것입니다:\n",
    "-tf.keras.layers.Layer\n",
    "-tf.keras.Model\n",
    "-tf.Module\n",
    "만약 (tf.Graph.get_collection(tf.GraphKeys.VARIABLES)처럼) \n",
    "변수의 리스트가 필요하다면 Layer와 Model 객체의 .variables이나 .trainable_variables 속성을 사용하세요.\n",
    "'''\n",
    "# tf.function 데코레이터는 선택 사항으로 성능을 위해 추가할 수 있습니다. (알아보기)\n",
    "\n",
    "# 주의깊게 볼 사항\n",
    "# padding = SYMETRIC , SAME , REFELECT ?\n",
    "# input image (none, height, width, 3+2) ?\n",
    "# dilation_rate / conv 인자중 하나 무슨의미 ?\n",
    "# context attention"
   ]
  },
  {
   "cell_type": "code",
   "execution_count": 8,
   "metadata": {
    "scrolled": false
   },
   "outputs": [
    {
     "name": "stdout",
     "output_type": "stream",
     "text": [
      "mask origin (1, 512, 680, 1)\n",
      "mask reshape (1, 128, 170, 1)\n",
      "Model: \"model\"\n",
      "__________________________________________________________________________________________________\n",
      "Layer (type)                    Output Shape         Param #     Connected to                     \n",
      "==================================================================================================\n",
      "input_1 (InputLayer)            [(None, 512, 680, 5) 0                                            \n",
      "__________________________________________________________________________________________________\n",
      "conv2d (Conv2D)                 (None, 512, 680, 48) 6048        input_1[0][0]                    \n",
      "__________________________________________________________________________________________________\n",
      "tf_op_layer_split (TensorFlowOp [(None, 512, 680, 24 0           conv2d[0][0]                     \n",
      "__________________________________________________________________________________________________\n",
      "tf_op_layer_Elu (TensorFlowOpLa [(None, 512, 680, 24 0           tf_op_layer_split[0][0]          \n",
      "__________________________________________________________________________________________________\n",
      "tf_op_layer_Sigmoid (TensorFlow [(None, 512, 680, 24 0           tf_op_layer_split[0][1]          \n",
      "__________________________________________________________________________________________________\n",
      "tf_op_layer_mul (TensorFlowOpLa [(None, 512, 680, 24 0           tf_op_layer_Elu[0][0]            \n",
      "                                                                 tf_op_layer_Sigmoid[0][0]        \n",
      "__________________________________________________________________________________________________\n",
      "conv2d_1 (Conv2D)               (None, 256, 340, 96) 20832       tf_op_layer_mul[0][0]            \n",
      "__________________________________________________________________________________________________\n",
      "tf_op_layer_split_1 (TensorFlow [(None, 256, 340, 48 0           conv2d_1[0][0]                   \n",
      "__________________________________________________________________________________________________\n",
      "tf_op_layer_Elu_1 (TensorFlowOp [(None, 256, 340, 48 0           tf_op_layer_split_1[0][0]        \n",
      "__________________________________________________________________________________________________\n",
      "tf_op_layer_Sigmoid_1 (TensorFl [(None, 256, 340, 48 0           tf_op_layer_split_1[0][1]        \n",
      "__________________________________________________________________________________________________\n",
      "tf_op_layer_mul_1 (TensorFlowOp [(None, 256, 340, 48 0           tf_op_layer_Elu_1[0][0]          \n",
      "                                                                 tf_op_layer_Sigmoid_1[0][0]      \n",
      "__________________________________________________________________________________________________\n",
      "conv2d_2 (Conv2D)               (None, 256, 340, 96) 41568       tf_op_layer_mul_1[0][0]          \n",
      "__________________________________________________________________________________________________\n",
      "tf_op_layer_split_2 (TensorFlow [(None, 256, 340, 48 0           conv2d_2[0][0]                   \n",
      "__________________________________________________________________________________________________\n",
      "tf_op_layer_Elu_2 (TensorFlowOp [(None, 256, 340, 48 0           tf_op_layer_split_2[0][0]        \n",
      "__________________________________________________________________________________________________\n",
      "tf_op_layer_Sigmoid_2 (TensorFl [(None, 256, 340, 48 0           tf_op_layer_split_2[0][1]        \n",
      "__________________________________________________________________________________________________\n",
      "tf_op_layer_mul_2 (TensorFlowOp [(None, 256, 340, 48 0           tf_op_layer_Elu_2[0][0]          \n",
      "                                                                 tf_op_layer_Sigmoid_2[0][0]      \n",
      "__________________________________________________________________________________________________\n",
      "conv2d_3 (Conv2D)               (None, 128, 170, 192 83136       tf_op_layer_mul_2[0][0]          \n",
      "__________________________________________________________________________________________________\n",
      "tf_op_layer_split_3 (TensorFlow [(None, 128, 170, 96 0           conv2d_3[0][0]                   \n",
      "__________________________________________________________________________________________________\n",
      "tf_op_layer_Elu_3 (TensorFlowOp [(None, 128, 170, 96 0           tf_op_layer_split_3[0][0]        \n",
      "__________________________________________________________________________________________________\n",
      "tf_op_layer_Sigmoid_3 (TensorFl [(None, 128, 170, 96 0           tf_op_layer_split_3[0][1]        \n",
      "__________________________________________________________________________________________________\n",
      "tf_op_layer_mul_3 (TensorFlowOp [(None, 128, 170, 96 0           tf_op_layer_Elu_3[0][0]          \n",
      "                                                                 tf_op_layer_Sigmoid_3[0][0]      \n",
      "__________________________________________________________________________________________________\n",
      "conv2d_4 (Conv2D)               (None, 128, 170, 192 166080      tf_op_layer_mul_3[0][0]          \n",
      "__________________________________________________________________________________________________\n",
      "tf_op_layer_split_4 (TensorFlow [(None, 128, 170, 96 0           conv2d_4[0][0]                   \n",
      "__________________________________________________________________________________________________\n",
      "tf_op_layer_Elu_4 (TensorFlowOp [(None, 128, 170, 96 0           tf_op_layer_split_4[0][0]        \n",
      "__________________________________________________________________________________________________\n",
      "tf_op_layer_Sigmoid_4 (TensorFl [(None, 128, 170, 96 0           tf_op_layer_split_4[0][1]        \n",
      "__________________________________________________________________________________________________\n",
      "tf_op_layer_mul_4 (TensorFlowOp [(None, 128, 170, 96 0           tf_op_layer_Elu_4[0][0]          \n",
      "                                                                 tf_op_layer_Sigmoid_4[0][0]      \n",
      "__________________________________________________________________________________________________\n",
      "conv2d_5 (Conv2D)               (None, 128, 170, 192 166080      tf_op_layer_mul_4[0][0]          \n",
      "__________________________________________________________________________________________________\n",
      "tf_op_layer_split_5 (TensorFlow [(None, 128, 170, 96 0           conv2d_5[0][0]                   \n",
      "__________________________________________________________________________________________________\n",
      "tf_op_layer_Elu_5 (TensorFlowOp [(None, 128, 170, 96 0           tf_op_layer_split_5[0][0]        \n",
      "__________________________________________________________________________________________________\n",
      "tf_op_layer_Sigmoid_5 (TensorFl [(None, 128, 170, 96 0           tf_op_layer_split_5[0][1]        \n",
      "__________________________________________________________________________________________________\n",
      "tf_op_layer_mul_5 (TensorFlowOp [(None, 128, 170, 96 0           tf_op_layer_Elu_5[0][0]          \n",
      "                                                                 tf_op_layer_Sigmoid_5[0][0]      \n",
      "==================================================================================================\n",
      "Total params: 483,744\n",
      "Trainable params: 483,744\n",
      "Non-trainable params: 0\n",
      "__________________________________________________________________________________________________\n"
     ]
    }
   ],
   "source": [
    "def gated_conv(x):\n",
    "    x,y = tf.split(x,2,3)\n",
    "    x = tf.nn.elu(x)\n",
    "    y = tf.nn.sigmoid(y)\n",
    "    return x*y\n",
    "\n",
    "input = Input(shape=(512,680,5))\n",
    "# cnum = 48\n",
    "# filter=48, ksize=5, stride=1\n",
    "x = Conv2D(48,5,1,dilation_rate=1,padding='SAME')(input)\n",
    "x = gated_conv(x)\n",
    "\n",
    "# ksize =2 (downsampling)\n",
    "x1 = Conv2D(96,3,2,dilation_rate=1,padding='SAME')(x)\n",
    "x1 = gated_conv(x1)\n",
    "\n",
    "x2 = Conv2D(96,3,1,dilation_rate=1,padding='SAME')(x1)\n",
    "x2 = gated_conv(x2)\n",
    "\n",
    "# ksize =2 (downsampling)\n",
    "x3 = Conv2D(192,3,2,dilation_rate=1,padding='SAME')(x2)\n",
    "x3 = gated_conv(x3)\n",
    "\n",
    "#conv5\n",
    "x4 = Conv2D(192,3,1,dilation_rate=1,padding='SAME')(x3)\n",
    "x4 = gated_conv(x4)\n",
    "\n",
    "#conv6\n",
    "x5 = Conv2D(192,3,1,dilation_rate=1,padding='SAME')(x4)\n",
    "x5 = gated_conv(x5)\n",
    "\n",
    "# resize mask\n",
    "x5_shape = x5.get_shape().as_list()[1:3]\n",
    "mask_s = tf.image.resize(\n",
    "    mask, [x5_shape[0],x5_shape[1]], method=tf.image.ResizeMethod.NEAREST_NEIGHBOR\n",
    ")\n",
    "print('mask origin',mask.shape)\n",
    "print('mask reshape',mask_s.shape)\n",
    "\n",
    "model = Model(input,x5)\n",
    "model.compile(optimizer='adam', loss='binary_crossentropy', metrics=['mse'])\n",
    "model.summary()"
   ]
  },
  {
   "cell_type": "code",
   "execution_count": null,
   "metadata": {},
   "outputs": [],
   "source": []
  }
 ],
 "metadata": {
  "kernelspec": {
   "display_name": "Python 3",
   "language": "python",
   "name": "python3"
  },
  "language_info": {
   "codemirror_mode": {
    "name": "ipython",
    "version": 3
   },
   "file_extension": ".py",
   "mimetype": "text/x-python",
   "name": "python",
   "nbconvert_exporter": "python",
   "pygments_lexer": "ipython3",
   "version": "3.6.8rc1"
  }
 },
 "nbformat": 4,
 "nbformat_minor": 2
}
