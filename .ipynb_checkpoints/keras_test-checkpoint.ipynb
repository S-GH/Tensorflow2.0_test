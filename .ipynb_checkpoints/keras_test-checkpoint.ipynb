{
 "cells": [
  {
   "cell_type": "markdown",
   "metadata": {},
   "source": [
    "### tf > keras 실험 코드"
   ]
  },
  {
   "cell_type": "code",
   "execution_count": 1,
   "metadata": {},
   "outputs": [
    {
     "data": {
      "text/plain": [
       "'2.1.0'"
      ]
     },
     "execution_count": 1,
     "metadata": {},
     "output_type": "execute_result"
    }
   ],
   "source": [
    "import cv2\n",
    "import numpy as np\n",
    "import tensorflow as tf\n",
    "from tensorflow.keras.models import Model\n",
    "from tensorflow.keras.layers import Dense, Input, Conv2D\n",
    "tf.__version__"
   ]
  },
  {
   "cell_type": "code",
   "execution_count": 3,
   "metadata": {},
   "outputs": [],
   "source": [
    "# variable_scope 안써도됩니다.\n",
    "# arg_scope 인자들을 일제히 설정해주는 코드. 무시 가능\n",
    "'''\n",
    "tf.get_variable 대신에 tf.Variable을 사용하세요.\n",
    "모든 variable_scope는 파이썬 객체로 바꿀 수 있습니다. 일반적으로 다음 중 하나가 될 것입니다:\n",
    "-tf.keras.layers.Layer\n",
    "-tf.keras.Model\n",
    "-tf.Module\n",
    "만약 (tf.Graph.get_collection(tf.GraphKeys.VARIABLES)처럼) \n",
    "변수의 리스트가 필요하다면 Layer와 Model 객체의 .variables이나 .trainable_variables 속성을 사용하세요.\n",
    "'''\n",
    "# tf.function 데코레이터는 선택 사항으로 성능을 위해 추가할 수 있습니다. (알아보기)"
   ]
  },
  {
   "cell_type": "code",
   "execution_count": 2,
   "metadata": {},
   "outputs": [
    {
     "name": "stdout",
     "output_type": "stream",
     "text": [
      "Model: \"model\"\n",
      "__________________________________________________________________________________________________\n",
      "Layer (type)                    Output Shape         Param #     Connected to                     \n",
      "==================================================================================================\n",
      "input_1 (InputLayer)            [(None, 512, 680, 5) 0                                            \n",
      "__________________________________________________________________________________________________\n",
      "conv2d (Conv2D)                 (None, 512, 680, 48) 6048        input_1[0][0]                    \n",
      "__________________________________________________________________________________________________\n",
      "tf_op_layer_split (TensorFlowOp [(None, 512, 680, 24 0           conv2d[0][0]                     \n",
      "__________________________________________________________________________________________________\n",
      "tf_op_layer_Elu (TensorFlowOpLa [(None, 512, 680, 24 0           tf_op_layer_split[0][0]          \n",
      "__________________________________________________________________________________________________\n",
      "tf_op_layer_Sigmoid (TensorFlow [(None, 512, 680, 24 0           tf_op_layer_split[0][1]          \n",
      "__________________________________________________________________________________________________\n",
      "tf_op_layer_mul (TensorFlowOpLa [(None, 512, 680, 24 0           tf_op_layer_Elu[0][0]            \n",
      "                                                                 tf_op_layer_Sigmoid[0][0]        \n",
      "__________________________________________________________________________________________________\n",
      "conv2d_1 (Conv2D)               (None, 256, 340, 96) 20832       tf_op_layer_mul[0][0]            \n",
      "__________________________________________________________________________________________________\n",
      "tf_op_layer_split_1 (TensorFlow [(None, 256, 340, 48 0           conv2d_1[0][0]                   \n",
      "__________________________________________________________________________________________________\n",
      "tf_op_layer_Elu_1 (TensorFlowOp [(None, 256, 340, 48 0           tf_op_layer_split_1[0][0]        \n",
      "__________________________________________________________________________________________________\n",
      "tf_op_layer_Sigmoid_1 (TensorFl [(None, 256, 340, 48 0           tf_op_layer_split_1[0][1]        \n",
      "__________________________________________________________________________________________________\n",
      "tf_op_layer_mul_1 (TensorFlowOp [(None, 256, 340, 48 0           tf_op_layer_Elu_1[0][0]          \n",
      "                                                                 tf_op_layer_Sigmoid_1[0][0]      \n",
      "==================================================================================================\n",
      "Total params: 26,880\n",
      "Trainable params: 26,880\n",
      "Non-trainable params: 0\n",
      "__________________________________________________________________________________________________\n"
     ]
    }
   ],
   "source": [
    "input = Input(shape=(512,680,5))\n",
    "cnum = 48\n",
    "# filter=48, ksize=5, stride=1\n",
    "x = Conv2D(48,5,1,dilation_rate=1,padding='SAME')(input)\n",
    "x,y = tf.split(x,2,3)\n",
    "x = tf.nn.elu(x)\n",
    "y = tf.nn.sigmoid(y)\n",
    "x = x*y\n",
    "\n",
    "x1 = Conv2D(96,3,2,dilation_rate=1,padding='SAME')(x)\n",
    "x1,y1 = tf.split(x1,2,3)\n",
    "x1 = tf.nn.elu(x1)\n",
    "y1 = tf.nn.sigmoid(y1)\n",
    "x1 = x1*y1\n",
    "\n",
    "model = Model(input,x1)\n",
    "model.compile(optimizer='adam', loss='binary_crossentropy', metrics=['mse'])\n",
    "model.summary()"
   ]
  },
  {
   "cell_type": "code",
   "execution_count": null,
   "metadata": {},
   "outputs": [],
   "source": []
  }
 ],
 "metadata": {
  "kernelspec": {
   "display_name": "Python 3",
   "language": "python",
   "name": "python3"
  },
  "language_info": {
   "codemirror_mode": {
    "name": "ipython",
    "version": 3
   },
   "file_extension": ".py",
   "mimetype": "text/x-python",
   "name": "python",
   "nbconvert_exporter": "python",
   "pygments_lexer": "ipython3",
   "version": "3.6.8rc1"
  }
 },
 "nbformat": 4,
 "nbformat_minor": 2
}
